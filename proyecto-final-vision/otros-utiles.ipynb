{
 "cells": [
  {
   "cell_type": "code",
   "execution_count": null,
   "metadata": {},
   "outputs": [],
   "source": [
    "import pickle\n",
    "print(\"Loading model\")\n",
    "filename = './finalized_model.sav'\n",
    "model = pickle.load(open(filename, 'rb'))\n",
    "\n",
    "print('Model loaded. Predicting characters of number plate')\n",
    "classification_result = []\n",
    "for each_character in characters:\n",
    "    # converts it to a 1D array\n",
    "    each_character = each_character.reshape(1, -1);\n",
    "    result = model.predict(each_character)\n",
    "    classification_result.append(result)\n",
    "\n",
    "print('Classification result')\n",
    "print(classification_result)\n",
    "\n",
    "plate_string = ''\n",
    "for eachPredict in classification_result:\n",
    "    plate_string += eachPredict[0]\n",
    "\n",
    "print('Predicted license plate')\n",
    "print(plate_string)\n",
    "\n",
    "# it's possible the characters are wrongly arranged\n",
    "# since that's a possibility, the column_list will be\n",
    "# used to sort the letters in the right order\n",
    "\n",
    "column_list_copy = column_list[:]\n",
    "column_list.sort()\n",
    "rightplate_string = ''\n",
    "for each in column_list:\n",
    "    rightplate_string += plate_string[column_list_copy.index(each)]\n",
    "\n",
    "print('License plate')\n",
    "print(rightplate_string)"
   ]
  }
 ],
 "metadata": {
  "kernelspec": {
   "display_name": "Python 3",
   "language": "python",
   "name": "python3"
  },
  "language_info": {
   "codemirror_mode": {
    "name": "ipython",
    "version": 3
   },
   "file_extension": ".py",
   "mimetype": "text/x-python",
   "name": "python",
   "nbconvert_exporter": "python",
   "pygments_lexer": "ipython3",
   "version": "3.5.2"
  }
 },
 "nbformat": 4,
 "nbformat_minor": 2
}
