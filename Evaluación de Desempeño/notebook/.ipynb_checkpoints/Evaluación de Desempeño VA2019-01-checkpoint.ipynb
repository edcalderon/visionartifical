{
 "cells": [
  {
   "cell_type": "markdown",
   "metadata": {},
   "source": [
    "# Métodos de clasificación y evaluación de desempeño."
   ]
  },
  {
   "cell_type": "markdown",
   "metadata": {},
   "source": [
    "Cualquier modelo de aprendizaje supervisado requiere una previa verificación antes de ser utilizado en el mundo real. \n",
    "\n",
    "La precisión de un modelo se mide con base en la función de costo.\n",
    "\n",
    "$$  L(Y, f(x))  $$ \n",
    "\n",
    "$L$ recibe el valor real $Y$ (dato considerado como verdadero) y el valor que el modelo $f$ predice con el dato de entrada $x$.\n",
    "\n",
    "Por tanto, el error de $L$ depende únicamente del dato de entrada $x$ en un modelo entrenado determinado. El objetivo es minimizar el error de $L$, sabiendo que ésta representa la diferencia entre el valor teórico y el predicho.\n",
    "\n",
    "$$ Err = E[ L(Y, f(x)) ]  $$\n",
    "\n",
    "$Err$ representa el error promedio para todos los datos $x$ y $E[]$ la esperanza calculada sobre estos valores obtenidos.\n",
    "\n",
    "Las funciones de costo/pérdida pueden ser diferentes, entre ellas el conocido error cuadrático medio (ECM).\n",
    "\n",
    "<center><img src= \"res/ecm.png\"></center>"
   ]
  },
  {
   "cell_type": "markdown",
   "metadata": {},
   "source": [
    "# División de los datos."
   ]
  },
  {
   "cell_type": "markdown",
   "metadata": {},
   "source": [
    "En la mayoría de los casos, para todos los modelos de aprendizaje de máquina se dividen los datos en dos conjuntos, uno que sirve para entrenar el modelo y el otro para verificar los resultados del modelo ya entrenado, estos son denominados set de entrenamiento y set de pruebas (train and test sets).\n",
    "\n",
    "Los datos, usualmente vienen con el siguiente formato:\n",
    "\n",
    "$[X, Y]$ donde $X$ son las variables independientes (los datos de entrada), y $Y$ es la variable dependiente (lo que se quiere predecir).\n",
    "\n",
    "Una consideración muy importante al dividir los datos en varios conjuntos es mantener las proporciones del dataset original.\n",
    "\n",
    "Usualmente, la proporción que se deja entre el conjunto de entrenamiento y prueba es 80-20. El 80% de los datos para el conjunto de entrenamiento y el 20% restante para el de pruebas, este tipo de división suele hacerse cuando se cuentan con pocos datos (un par de decenas de miles).\n",
    "\n",
    "Debe tenerse en cuenta que si se trabaja con Big Data, el volumen de datos es mucho mayor y no hay problema al realizar proporciones del tipo 98% - 2%, dado que se tienen varios millones."
   ]
  },
  {
   "cell_type": "markdown",
   "metadata": {},
   "source": [
    "# Ejercicio practico."
   ]
  },
  {
   "cell_type": "markdown",
   "metadata": {},
   "source": [
    "A continuación, se leerá un dataset de diabetes que se encuentra en la carpeta \"datos\", tal como puede apreciarse, éste es un archivo de tipo \"csv\", como el que usted creó en el ejercicio guiado."
   ]
  },
  {
   "cell_type": "code",
   "execution_count": 1,
   "metadata": {},
   "outputs": [
    {
     "ename": "ImportError",
     "evalue": "No module named 'pandas'",
     "output_type": "error",
     "traceback": [
      "\u001b[0;31m---------------------------------------------------------------------------\u001b[0m",
      "\u001b[0;31mImportError\u001b[0m                               Traceback (most recent call last)",
      "\u001b[0;32m<ipython-input-1-96641487dd56>\u001b[0m in \u001b[0;36m<module>\u001b[0;34m\u001b[0m\n\u001b[1;32m      1\u001b[0m \u001b[0;31m# Paquetes necesarios para la manipulación de los datos\u001b[0m\u001b[0;34m\u001b[0m\u001b[0;34m\u001b[0m\u001b[0m\n\u001b[0;32m----> 2\u001b[0;31m \u001b[0;32mimport\u001b[0m \u001b[0mpandas\u001b[0m\u001b[0;34m\u001b[0m\u001b[0m\n\u001b[0m\u001b[1;32m      3\u001b[0m \u001b[0;32mfrom\u001b[0m \u001b[0msklearn\u001b[0m\u001b[0;34m.\u001b[0m\u001b[0mmetrics\u001b[0m \u001b[0;32mimport\u001b[0m \u001b[0mauc\u001b[0m\u001b[0;34m\u001b[0m\u001b[0m\n\u001b[1;32m      4\u001b[0m \u001b[0;32mfrom\u001b[0m \u001b[0mmatplotlib\u001b[0m \u001b[0;32mimport\u001b[0m \u001b[0mpyplot\u001b[0m \u001b[0;32mas\u001b[0m \u001b[0mplt\u001b[0m\u001b[0;34m\u001b[0m\u001b[0m\n\u001b[1;32m      5\u001b[0m \u001b[0;32mfrom\u001b[0m \u001b[0msklearn\u001b[0m\u001b[0;34m.\u001b[0m\u001b[0mmodel_selection\u001b[0m \u001b[0;32mimport\u001b[0m \u001b[0mtrain_test_split\u001b[0m\u001b[0;34m\u001b[0m\u001b[0m\n",
      "\u001b[0;31mImportError\u001b[0m: No module named 'pandas'"
     ]
    }
   ],
   "source": [
    "# Paquetes necesarios para la manipulación de los datos\n",
    "import pandas \n",
    "from sklearn.metrics import auc\n",
    "from matplotlib import pyplot as plt\n",
    "from sklearn.model_selection import train_test_split    \n",
    "from sklearn.metrics import precision_score, mean_squared_error, confusion_matrix, mean_absolute_error\n",
    "from sklearn.preprocessing import MinMaxScaler\n",
    "from sklearn import linear_model\n",
    "from sklearn.metrics import accuracy_score\n",
    "from sklearn.metrics import confusion_matrix\n",
    "from sklearn.metrics import roc_curve\n",
    "import warnings\n",
    "warnings.filterwarnings('ignore')"
   ]
  },
  {
   "cell_type": "markdown",
   "metadata": {},
   "source": [
    "Una vez leídos los paquetes necesarios para manipular los datos, entre ellos se encuentra pandas y sklearn, debe leerse el dataset de diabetes."
   ]
  },
  {
   "cell_type": "code",
   "execution_count": 2,
   "metadata": {},
   "outputs": [],
   "source": [
    "diabetes = pandas.read_csv(\"datos/diabetes.csv\", sep=\",\")"
   ]
  },
  {
   "cell_type": "markdown",
   "metadata": {},
   "source": [
    "Probemos que haya sido leído, imprimamos la información, para no utilizar espacio del notebook innecesariamente, solo será impresa la cola del dataset(si se quiere leer la parte superior, se utiliza \"head\")."
   ]
  },
  {
   "cell_type": "code",
   "execution_count": 5,
   "metadata": {},
   "outputs": [
    {
     "data": {
      "text/html": [
       "<div>\n",
       "<style scoped>\n",
       "    .dataframe tbody tr th:only-of-type {\n",
       "        vertical-align: middle;\n",
       "    }\n",
       "\n",
       "    .dataframe tbody tr th {\n",
       "        vertical-align: top;\n",
       "    }\n",
       "\n",
       "    .dataframe thead th {\n",
       "        text-align: right;\n",
       "    }\n",
       "</style>\n",
       "<table border=\"1\" class=\"dataframe\">\n",
       "  <thead>\n",
       "    <tr style=\"text-align: right;\">\n",
       "      <th></th>\n",
       "      <th>preg</th>\n",
       "      <th>plas</th>\n",
       "      <th>pres</th>\n",
       "      <th>skin</th>\n",
       "      <th>insu</th>\n",
       "      <th>mass</th>\n",
       "      <th>pedi</th>\n",
       "      <th>age</th>\n",
       "      <th>class</th>\n",
       "    </tr>\n",
       "  </thead>\n",
       "  <tbody>\n",
       "    <tr>\n",
       "      <th>763</th>\n",
       "      <td>10</td>\n",
       "      <td>101</td>\n",
       "      <td>76</td>\n",
       "      <td>48</td>\n",
       "      <td>180</td>\n",
       "      <td>32.9</td>\n",
       "      <td>0.171</td>\n",
       "      <td>63</td>\n",
       "      <td>tested_negative</td>\n",
       "    </tr>\n",
       "    <tr>\n",
       "      <th>764</th>\n",
       "      <td>2</td>\n",
       "      <td>122</td>\n",
       "      <td>70</td>\n",
       "      <td>27</td>\n",
       "      <td>0</td>\n",
       "      <td>36.8</td>\n",
       "      <td>0.340</td>\n",
       "      <td>27</td>\n",
       "      <td>tested_negative</td>\n",
       "    </tr>\n",
       "    <tr>\n",
       "      <th>765</th>\n",
       "      <td>5</td>\n",
       "      <td>121</td>\n",
       "      <td>72</td>\n",
       "      <td>23</td>\n",
       "      <td>112</td>\n",
       "      <td>26.2</td>\n",
       "      <td>0.245</td>\n",
       "      <td>30</td>\n",
       "      <td>tested_negative</td>\n",
       "    </tr>\n",
       "    <tr>\n",
       "      <th>766</th>\n",
       "      <td>1</td>\n",
       "      <td>126</td>\n",
       "      <td>60</td>\n",
       "      <td>0</td>\n",
       "      <td>0</td>\n",
       "      <td>30.1</td>\n",
       "      <td>0.349</td>\n",
       "      <td>47</td>\n",
       "      <td>tested_positive</td>\n",
       "    </tr>\n",
       "    <tr>\n",
       "      <th>767</th>\n",
       "      <td>1</td>\n",
       "      <td>93</td>\n",
       "      <td>70</td>\n",
       "      <td>31</td>\n",
       "      <td>0</td>\n",
       "      <td>30.4</td>\n",
       "      <td>0.315</td>\n",
       "      <td>23</td>\n",
       "      <td>tested_negative</td>\n",
       "    </tr>\n",
       "  </tbody>\n",
       "</table>\n",
       "</div>"
      ],
      "text/plain": [
       "     preg  plas  pres  skin  insu  mass   pedi  age            class\n",
       "763    10   101    76    48   180  32.9  0.171   63  tested_negative\n",
       "764     2   122    70    27     0  36.8  0.340   27  tested_negative\n",
       "765     5   121    72    23   112  26.2  0.245   30  tested_negative\n",
       "766     1   126    60     0     0  30.1  0.349   47  tested_positive\n",
       "767     1    93    70    31     0  30.4  0.315   23  tested_negative"
      ]
     },
     "execution_count": 5,
     "metadata": {},
     "output_type": "execute_result"
    }
   ],
   "source": [
    "#diabetes.head()\n",
    "diabetes.tail()"
   ]
  },
  {
   "cell_type": "markdown",
   "metadata": {},
   "source": [
    "### Es importante conocer los datos con los que se está trabajando.\n",
    "\n",
    "Por tanto, es sugerible imprimir las columnas de nuestro dataset y adicionalmente, conocer las dimensiones del mismo."
   ]
  },
  {
   "cell_type": "code",
   "execution_count": 7,
   "metadata": {},
   "outputs": [
    {
     "data": {
      "text/plain": [
       "Index(['preg', 'plas', 'pres', 'skin', 'insu', 'mass', 'pedi', 'age', 'class'], dtype='object')"
      ]
     },
     "execution_count": 7,
     "metadata": {},
     "output_type": "execute_result"
    }
   ],
   "source": [
    "#Nombres de las características de éste dataset\n",
    "diabetes.columns"
   ]
  },
  {
   "cell_type": "code",
   "execution_count": 10,
   "metadata": {},
   "outputs": [
    {
     "data": {
      "text/plain": [
       "(768, 9)"
      ]
     },
     "execution_count": 10,
     "metadata": {},
     "output_type": "execute_result"
    }
   ],
   "source": [
    "#(Número de datos, Número de características) ó (filas,columnas)\n",
    "diabetes.shape"
   ]
  },
  {
   "cell_type": "markdown",
   "metadata": {},
   "source": [
    "Una de las columnas es la clase \"class\", es muy importante conocerla dado que corresponde a los datos Y del dataset (lo que busca predecirse a partir del conjunto de datos X y el modelo escogido)."
   ]
  },
  {
   "cell_type": "code",
   "execution_count": 11,
   "metadata": {},
   "outputs": [
    {
     "data": {
      "text/plain": [
       "{'tested_negative', 'tested_positive'}"
      ]
     },
     "execution_count": 11,
     "metadata": {},
     "output_type": "execute_result"
    }
   ],
   "source": [
    "#Mostrar las clases del dataset\n",
    "set(diabetes[\"class\"])"
   ]
  },
  {
   "cell_type": "markdown",
   "metadata": {},
   "source": [
    "En este caso específico, este dataset requiere clasificación de tipo binario."
   ]
  },
  {
   "cell_type": "markdown",
   "metadata": {},
   "source": [
    "## Normalización o escalamiento."
   ]
  },
  {
   "cell_type": "markdown",
   "metadata": {},
   "source": [
    "Una vez conocidos los datos, hay que realizar un proceso de escalamiento. Consiste en llevar todos los datos numéricos en el rango [0,1].\n",
    "\n",
    "Aunque existen múltiples scaler (MinMax, standard, etc) en este caso específico, escogeremos MinMax."
   ]
  },
  {
   "cell_type": "code",
   "execution_count": 12,
   "metadata": {},
   "outputs": [],
   "source": [
    "#Seleccionar el scaler\n",
    "scaler = MinMaxScaler()"
   ]
  },
  {
   "cell_type": "markdown",
   "metadata": {},
   "source": [
    "## ¡La clase NO debe normalizarse!"
   ]
  },
  {
   "cell_type": "markdown",
   "metadata": {},
   "source": [
    "Por lo tanto, antes de normalizar los datos utilizando el scaler, separaremos los datos de entrada \"X\" y los datos reales \"Y\" o clase."
   ]
  },
  {
   "cell_type": "code",
   "execution_count": 13,
   "metadata": {},
   "outputs": [],
   "source": [
    "X_diabetes = diabetes.drop(\"class\", axis=1)\n",
    "Y_diabetes = diabetes[\"class\"]"
   ]
  },
  {
   "cell_type": "markdown",
   "metadata": {},
   "source": [
    "Para estar seguros, imprimamos X_diabetes y Y_diabetes."
   ]
  },
  {
   "cell_type": "code",
   "execution_count": 15,
   "metadata": {},
   "outputs": [
    {
     "data": {
      "text/html": [
       "<div>\n",
       "<style scoped>\n",
       "    .dataframe tbody tr th:only-of-type {\n",
       "        vertical-align: middle;\n",
       "    }\n",
       "\n",
       "    .dataframe tbody tr th {\n",
       "        vertical-align: top;\n",
       "    }\n",
       "\n",
       "    .dataframe thead th {\n",
       "        text-align: right;\n",
       "    }\n",
       "</style>\n",
       "<table border=\"1\" class=\"dataframe\">\n",
       "  <thead>\n",
       "    <tr style=\"text-align: right;\">\n",
       "      <th></th>\n",
       "      <th>preg</th>\n",
       "      <th>plas</th>\n",
       "      <th>pres</th>\n",
       "      <th>skin</th>\n",
       "      <th>insu</th>\n",
       "      <th>mass</th>\n",
       "      <th>pedi</th>\n",
       "      <th>age</th>\n",
       "    </tr>\n",
       "  </thead>\n",
       "  <tbody>\n",
       "    <tr>\n",
       "      <th>0</th>\n",
       "      <td>6</td>\n",
       "      <td>148</td>\n",
       "      <td>72</td>\n",
       "      <td>35</td>\n",
       "      <td>0</td>\n",
       "      <td>33.6</td>\n",
       "      <td>0.627</td>\n",
       "      <td>50</td>\n",
       "    </tr>\n",
       "    <tr>\n",
       "      <th>1</th>\n",
       "      <td>1</td>\n",
       "      <td>85</td>\n",
       "      <td>66</td>\n",
       "      <td>29</td>\n",
       "      <td>0</td>\n",
       "      <td>26.6</td>\n",
       "      <td>0.351</td>\n",
       "      <td>31</td>\n",
       "    </tr>\n",
       "    <tr>\n",
       "      <th>2</th>\n",
       "      <td>8</td>\n",
       "      <td>183</td>\n",
       "      <td>64</td>\n",
       "      <td>0</td>\n",
       "      <td>0</td>\n",
       "      <td>23.3</td>\n",
       "      <td>0.672</td>\n",
       "      <td>32</td>\n",
       "    </tr>\n",
       "    <tr>\n",
       "      <th>3</th>\n",
       "      <td>1</td>\n",
       "      <td>89</td>\n",
       "      <td>66</td>\n",
       "      <td>23</td>\n",
       "      <td>94</td>\n",
       "      <td>28.1</td>\n",
       "      <td>0.167</td>\n",
       "      <td>21</td>\n",
       "    </tr>\n",
       "    <tr>\n",
       "      <th>4</th>\n",
       "      <td>0</td>\n",
       "      <td>137</td>\n",
       "      <td>40</td>\n",
       "      <td>35</td>\n",
       "      <td>168</td>\n",
       "      <td>43.1</td>\n",
       "      <td>2.288</td>\n",
       "      <td>33</td>\n",
       "    </tr>\n",
       "  </tbody>\n",
       "</table>\n",
       "</div>"
      ],
      "text/plain": [
       "   preg  plas  pres  skin  insu  mass   pedi  age\n",
       "0     6   148    72    35     0  33.6  0.627   50\n",
       "1     1    85    66    29     0  26.6  0.351   31\n",
       "2     8   183    64     0     0  23.3  0.672   32\n",
       "3     1    89    66    23    94  28.1  0.167   21\n",
       "4     0   137    40    35   168  43.1  2.288   33"
      ]
     },
     "execution_count": 15,
     "metadata": {},
     "output_type": "execute_result"
    }
   ],
   "source": [
    "X_diabetes.head()"
   ]
  },
  {
   "cell_type": "code",
   "execution_count": 16,
   "metadata": {},
   "outputs": [
    {
     "data": {
      "text/plain": [
       "0    tested_positive\n",
       "1    tested_negative\n",
       "2    tested_positive\n",
       "3    tested_negative\n",
       "4    tested_positive\n",
       "Name: class, dtype: object"
      ]
     },
     "execution_count": 16,
     "metadata": {},
     "output_type": "execute_result"
    }
   ],
   "source": [
    "Y_diabetes.head()"
   ]
  },
  {
   "cell_type": "markdown",
   "metadata": {},
   "source": [
    "## Ahora, se escalan los datos X_diabetes."
   ]
  },
  {
   "cell_type": "code",
   "execution_count": 17,
   "metadata": {},
   "outputs": [],
   "source": [
    "X_diabetes_scaled = scaler.fit_transform(X_diabetes)"
   ]
  },
  {
   "cell_type": "markdown",
   "metadata": {},
   "source": [
    "Una vez escalados, son convertidos en un array, volvamos esta información un dataframe de pandas y procedamos a trabajar con él."
   ]
  },
  {
   "cell_type": "code",
   "execution_count": 22,
   "metadata": {},
   "outputs": [],
   "source": [
    "X_diabetes_scaled = pd.DataFrame(X_diabetes_scaled, columns = X_diabetes.columns)"
   ]
  },
  {
   "cell_type": "markdown",
   "metadata": {},
   "source": [
    "Una vez más, imprimamos los datos para verificar que estén en el rango [0,1]."
   ]
  },
  {
   "cell_type": "code",
   "execution_count": 24,
   "metadata": {},
   "outputs": [
    {
     "data": {
      "text/html": [
       "<div>\n",
       "<style scoped>\n",
       "    .dataframe tbody tr th:only-of-type {\n",
       "        vertical-align: middle;\n",
       "    }\n",
       "\n",
       "    .dataframe tbody tr th {\n",
       "        vertical-align: top;\n",
       "    }\n",
       "\n",
       "    .dataframe thead th {\n",
       "        text-align: right;\n",
       "    }\n",
       "</style>\n",
       "<table border=\"1\" class=\"dataframe\">\n",
       "  <thead>\n",
       "    <tr style=\"text-align: right;\">\n",
       "      <th></th>\n",
       "      <th>preg</th>\n",
       "      <th>plas</th>\n",
       "      <th>pres</th>\n",
       "      <th>skin</th>\n",
       "      <th>insu</th>\n",
       "      <th>mass</th>\n",
       "      <th>pedi</th>\n",
       "      <th>age</th>\n",
       "    </tr>\n",
       "  </thead>\n",
       "  <tbody>\n",
       "    <tr>\n",
       "      <th>0</th>\n",
       "      <td>0.352941</td>\n",
       "      <td>0.743719</td>\n",
       "      <td>0.590164</td>\n",
       "      <td>0.353535</td>\n",
       "      <td>0.000000</td>\n",
       "      <td>0.500745</td>\n",
       "      <td>0.234415</td>\n",
       "      <td>0.483333</td>\n",
       "    </tr>\n",
       "    <tr>\n",
       "      <th>1</th>\n",
       "      <td>0.058824</td>\n",
       "      <td>0.427136</td>\n",
       "      <td>0.540984</td>\n",
       "      <td>0.292929</td>\n",
       "      <td>0.000000</td>\n",
       "      <td>0.396423</td>\n",
       "      <td>0.116567</td>\n",
       "      <td>0.166667</td>\n",
       "    </tr>\n",
       "    <tr>\n",
       "      <th>2</th>\n",
       "      <td>0.470588</td>\n",
       "      <td>0.919598</td>\n",
       "      <td>0.524590</td>\n",
       "      <td>0.000000</td>\n",
       "      <td>0.000000</td>\n",
       "      <td>0.347243</td>\n",
       "      <td>0.253629</td>\n",
       "      <td>0.183333</td>\n",
       "    </tr>\n",
       "    <tr>\n",
       "      <th>3</th>\n",
       "      <td>0.058824</td>\n",
       "      <td>0.447236</td>\n",
       "      <td>0.540984</td>\n",
       "      <td>0.232323</td>\n",
       "      <td>0.111111</td>\n",
       "      <td>0.418778</td>\n",
       "      <td>0.038002</td>\n",
       "      <td>0.000000</td>\n",
       "    </tr>\n",
       "    <tr>\n",
       "      <th>4</th>\n",
       "      <td>0.000000</td>\n",
       "      <td>0.688442</td>\n",
       "      <td>0.327869</td>\n",
       "      <td>0.353535</td>\n",
       "      <td>0.198582</td>\n",
       "      <td>0.642325</td>\n",
       "      <td>0.943638</td>\n",
       "      <td>0.200000</td>\n",
       "    </tr>\n",
       "  </tbody>\n",
       "</table>\n",
       "</div>"
      ],
      "text/plain": [
       "       preg      plas      pres      skin      insu      mass      pedi  \\\n",
       "0  0.352941  0.743719  0.590164  0.353535  0.000000  0.500745  0.234415   \n",
       "1  0.058824  0.427136  0.540984  0.292929  0.000000  0.396423  0.116567   \n",
       "2  0.470588  0.919598  0.524590  0.000000  0.000000  0.347243  0.253629   \n",
       "3  0.058824  0.447236  0.540984  0.232323  0.111111  0.418778  0.038002   \n",
       "4  0.000000  0.688442  0.327869  0.353535  0.198582  0.642325  0.943638   \n",
       "\n",
       "        age  \n",
       "0  0.483333  \n",
       "1  0.166667  \n",
       "2  0.183333  \n",
       "3  0.000000  \n",
       "4  0.200000  "
      ]
     },
     "execution_count": 24,
     "metadata": {},
     "output_type": "execute_result"
    }
   ],
   "source": [
    "X_diabetes_scaled.head()"
   ]
  },
  {
   "cell_type": "markdown",
   "metadata": {},
   "source": [
    "# División en conjuntos de entrenamiento y pruebas."
   ]
  },
  {
   "cell_type": "markdown",
   "metadata": {},
   "source": [
    "La primera consideración que debe hacerse es, ¿Con cuántos datos cuento?, efectivamente tenemos 768 datos y 9 características distintas, por lo tanto, lo mejor es optar por una división tipo 80-20."
   ]
  },
  {
   "cell_type": "markdown",
   "metadata": {},
   "source": [
    "Utilizando el dataframe obtenido tras normalizar (recordemos que podemos utilizar los mismos datos para Y dado que la clase no recibió ningún tipo de tratamiento), redefinimos X_diabetes & Y_diabetes."
   ]
  },
  {
   "cell_type": "code",
   "execution_count": 25,
   "metadata": {},
   "outputs": [],
   "source": [
    "#Antes de realizar una división 80-20, definir los conjuntos X & Y.\n",
    "\n",
    "X_diabetes = X_diabetes_scaled\n",
    "Y_diabetes = diabetes[\"class\"]"
   ]
  },
  {
   "cell_type": "markdown",
   "metadata": {},
   "source": [
    "Verificar que tengan el mismo numero de filas es importante.\n",
    "\n",
    "También es sugerible imprimir X_diabetes & Y_diabetes en caso de no saber si están correctos los conjuntos de trabajo."
   ]
  },
  {
   "cell_type": "code",
   "execution_count": 36,
   "metadata": {},
   "outputs": [
    {
     "name": "stdout",
     "output_type": "stream",
     "text": [
      "El número de filas coinciden, ¡Es correcto!\n"
     ]
    }
   ],
   "source": [
    "if X_diabetes.shape[0] == Y_diabetes.shape[0]:\n",
    "    print(\"El número de filas coinciden, ¡Es correcto!\")\n"
   ]
  },
  {
   "cell_type": "markdown",
   "metadata": {},
   "source": [
    "Finalmente, debe realizarse la división de los datos, utilizando la función \"split\"."
   ]
  },
  {
   "cell_type": "code",
   "execution_count": 32,
   "metadata": {},
   "outputs": [],
   "source": [
    "X_train_diabetes, X_test_diabetes, y_train_diabetes, y_test_diabetes = train_test_split(X_diabetes, Y_diabetes, test_size=0.20)"
   ]
  },
  {
   "cell_type": "markdown",
   "metadata": {},
   "source": [
    "Nótese que el \"test_size\" es 0.20, lo que coincide con la teoría.\n",
    "\n",
    "Por otro lado, esta función le da valores de prueba y entrenamiento distintos cada vez que el código es utilizado, por lo tanto, no debe sorprenderse si hay variaciones en los conjuntos, lo que se mantendrá constante es la proporción entre éstos."
   ]
  },
  {
   "cell_type": "markdown",
   "metadata": {},
   "source": [
    "# Modelos de clasificación.\n",
    "\n",
    "Tal como se sugiere, el primer modelo de clasificación que se utilizará será la Regresión Logística.\n",
    "\n",
    "Posteriormente se observará la matriz de confusión asociada y las métricas derivadas de ésta."
   ]
  },
  {
   "cell_type": "code",
   "execution_count": 41,
   "metadata": {},
   "outputs": [],
   "source": [
    "#Regresión Logística con sklearn\n",
    "regresion_logistica = linear_model.LogisticRegression()"
   ]
  },
  {
   "cell_type": "markdown",
   "metadata": {},
   "source": [
    "Ahora, ajustemos los datos al modelo. Nótese que se utilizan los conjuntos X e Y de entrenamiento."
   ]
  },
  {
   "cell_type": "code",
   "execution_count": 44,
   "metadata": {},
   "outputs": [
    {
     "data": {
      "text/plain": [
       "LogisticRegression(C=1.0, class_weight=None, dual=False, fit_intercept=True,\n",
       "                   intercept_scaling=1, l1_ratio=None, max_iter=100,\n",
       "                   multi_class='warn', n_jobs=None, penalty='l2',\n",
       "                   random_state=None, solver='warn', tol=0.0001, verbose=0,\n",
       "                   warm_start=False)"
      ]
     },
     "execution_count": 44,
     "metadata": {},
     "output_type": "execute_result"
    }
   ],
   "source": [
    "regresion_logistica.fit(X_train_diabetes, y_train_diabetes)"
   ]
  },
  {
   "cell_type": "markdown",
   "metadata": {},
   "source": [
    "Una vez ajustado el modelo, observemos los resultados obtenidos.\n",
    "\n",
    "Esta primer pincelada puede darse reportando el <i><b> error de entrenamiento </b></i> y el <i><b> error de pruebas. </b></i>\n",
    "\n",
    "Para ello, realizaremos predicciones sobre el conjunto de pruebas(X_test_diabetes) y entrenamiento (X_train_diabetes) y calcularemos su \"accuracy_score\" respecto de los conjuntos de entrenamiento y prueba del conjunto Y (datos reales)."
   ]
  },
  {
   "cell_type": "code",
   "execution_count": 45,
   "metadata": {},
   "outputs": [
    {
     "name": "stdout",
     "output_type": "stream",
     "text": [
      "Error de entrenamiento = 0.7850162866449512\n"
     ]
    }
   ],
   "source": [
    "y_pred_train = regresion_logistica.predict(X_train_diabetes)\n",
    "efectividad_entrenamiento = accuracy_score(y_train_diabetes, y_pred_train)\n",
    "print(\"Error de entrenamiento = \" + str(efectividad_entrenamiento))"
   ]
  },
  {
   "cell_type": "code",
   "execution_count": 46,
   "metadata": {},
   "outputs": [
    {
     "name": "stdout",
     "output_type": "stream",
     "text": [
      "Error de pruebas: 0.7272727272727273\n"
     ]
    }
   ],
   "source": [
    "y_pred_test = regresion_logistica.predict(X_test_diabetes)\n",
    "efectividad_pruebas = accuracy_score(y_test_diabetes, y_pred_test)\n",
    "print(\"Error de pruebas: \" + str(efectividad_pruebas))"
   ]
  },
  {
   "cell_type": "markdown",
   "metadata": {},
   "source": [
    "¿El modelo es un buen clasificador? ¿Esta sobre ajustado, bien o subajustado?"
   ]
  },
  {
   "cell_type": "markdown",
   "metadata": {},
   "source": [
    "# Matriz de confusión"
   ]
  },
  {
   "cell_type": "markdown",
   "metadata": {},
   "source": [
    "Ahora, se realizará la implementación de la matriz de confusión del modelo de Regresión Logística que se planteó con anterioridad.\n",
    "\n",
    "Nótese que ésta visualización permite encontrar métricas estadísticas y matemáticas para medir el desempeño del modelo, al mismo tiempo que deja ver si el éste está confundiendo una clase con otra.\n",
    "\n",
    "No necesariamente es de carácter binario, por lo cual es flexible a distintos tipos de clasificación.\n",
    "\n",
    "Es una comparación entre valores reales y valores predichos.\n",
    "\n",
    "<center> <img src = \"res/matriz.png\"> </center>\n",
    "\n",
    "A continuación, se utiliza \"confusion_matrix\" de sklearn.metrics para reportar esta información."
   ]
  },
  {
   "cell_type": "code",
   "execution_count": 48,
   "metadata": {},
   "outputs": [
    {
     "name": "stdout",
     "output_type": "stream",
     "text": [
      "                 tested_negative  tested_positive\n",
      "tested_negative               89               11\n",
      "tested_positive               31               23\n"
     ]
    }
   ],
   "source": [
    "matriz_confusion = confusion_matrix(y_test_diabetes, y_pred_test, labels=[\"tested_negative\", \"tested_positive\"])\n",
    "\n",
    "# Para mostrar de mejor forma la matriz\n",
    "table = pandas.DataFrame(matriz_confusion)\n",
    "table.columns = [\"tested_negative\", \"tested_positive\"]\n",
    "table.index = [\"tested_negative\", \"tested_positive\"]\n",
    "print(table)"
   ]
  },
  {
   "cell_type": "markdown",
   "metadata": {},
   "source": [
    "Como puede observarse, este modelo presenta un problema con el dataset, dado que en 31 casos donde el paciente si sufre la enfermedad, los clasifica como negativos.\n",
    "\n",
    "A continuación se pueden describir las métricas vistas en clase, especialmente útiles cuando los datos estan desbalanceados. \n",
    "\n",
    "Los Falsos Positivos(FP), Falsos Negativos (FN), Verdaderos Positivos (VP) y Verdaderos Negativos (VN), que adquieren sentido cuando se trata de un problema de clasificación binaria."
   ]
  },
  {
   "cell_type": "code",
   "execution_count": 49,
   "metadata": {},
   "outputs": [],
   "source": [
    "VN, FP, FN, VP = matriz_confusion.ravel()"
   ]
  },
  {
   "cell_type": "markdown",
   "metadata": {},
   "source": [
    "Pueden imprimirse los valores correspondientes a VN, FP, FN y VP para corroborar que la información sea correcta en éstos. O bien, entender a qué corresponden."
   ]
  },
  {
   "cell_type": "markdown",
   "metadata": {},
   "source": [
    "# Métricas"
   ]
  },
  {
   "cell_type": "markdown",
   "metadata": {},
   "source": [
    "### Precisión del modelo:\n",
    "\n",
    "$$P = \\frac{VerdaderoPositivo}{VerdaderoPositivo + FalsoPositivo}$$\n",
    "\n",
    "Probabilidad de que el modelo no marque como positivo, una muestra negativo."
   ]
  },
  {
   "cell_type": "code",
   "execution_count": 51,
   "metadata": {},
   "outputs": [
    {
     "name": "stdout",
     "output_type": "stream",
     "text": [
      "La precisión del modelo es: 0.6764705882352942\n"
     ]
    }
   ],
   "source": [
    "P = VP/(VP+FP)\n",
    "print(\"La precisión del modelo es: \" + str(P))"
   ]
  },
  {
   "cell_type": "markdown",
   "metadata": {},
   "source": [
    "### Sensibilidad(Recall) del modelo:\n",
    "\n",
    "$$R = \\frac{VerdaderoPositivo}{VerdaderoPositivo + FalsoNegativo}$$\n",
    "\n",
    "Capacidad del modelo de encontrar los valores positivos."
   ]
  },
  {
   "cell_type": "code",
   "execution_count": 52,
   "metadata": {},
   "outputs": [
    {
     "name": "stdout",
     "output_type": "stream",
     "text": [
      "La sensibilidad del modelo es: 0.42592592592592593\n"
     ]
    }
   ],
   "source": [
    "R = VP/(VP+FN)\n",
    "print(\"La sensibilidad del modelo es: \" + str(R))"
   ]
  },
  {
   "cell_type": "markdown",
   "metadata": {},
   "source": [
    "### Especificidad del modelo:\n",
    "\n",
    "$$E = \\frac{VerdaderoNegativo}{VerdaderoNegativo + FalsoPositivo}$$\n",
    "\n",
    "Capacidad del modelo de encontrar elementos negativos."
   ]
  },
  {
   "cell_type": "code",
   "execution_count": 53,
   "metadata": {},
   "outputs": [
    {
     "name": "stdout",
     "output_type": "stream",
     "text": [
      "La especificidad del modelo es: 0.89\n"
     ]
    }
   ],
   "source": [
    "E = VN/(VN+FP)\n",
    "print(\"La especificidad del modelo es: \" + str(E))"
   ]
  },
  {
   "cell_type": "markdown",
   "metadata": {},
   "source": [
    "### F1 Score:\n",
    "\n",
    "\n",
    "\n",
    "$$F1\\_score = \\frac{2 * P * R}{P + R}$$\n",
    "\n",
    "Promedio entre precisión y sensibilidad, que da igual importancia a ambos valores.\n"
   ]
  },
  {
   "cell_type": "code",
   "execution_count": 56,
   "metadata": {},
   "outputs": [
    {
     "name": "stdout",
     "output_type": "stream",
     "text": [
      "El F1-Score del modelo es: 0.5227272727272728\n"
     ]
    }
   ],
   "source": [
    "F = (2*P*R)/(P+R)\n",
    "print(\"El F1-Score del modelo es: \" + str(F))"
   ]
  },
  {
   "cell_type": "markdown",
   "metadata": {},
   "source": [
    "## El caso multi-clase.\n",
    "\n",
    "Si se encuentra un problema multi-clase, pueden utilizarse estas versiones del código.\n",
    "\n",
    "precision_score, recall_score, fbeta_score de la librería sklearn.metrics."
   ]
  },
  {
   "cell_type": "markdown",
   "metadata": {},
   "source": [
    "### AUC (Area Under Curve)\n",
    "\n",
    "Para modelos de clasificación binaria únicamente, como la Regresión Logística, puede definirse un threshold, tal que diferencie valores verdaderos o falsos.\n",
    "\n",
    "El umbral es muy importante, si es muy cercano a cero (como 0.1) el sistema tiende a clasificar todo como positivo, si es cercano a 1 (como 0.9) los objetos clasificados serán casi todos negativos y finalmente, si el umbral es 0.5 tenderá a clasificar todo por igual.\n",
    "\n",
    "Así mismo, para la métrica AUC se busca obtener valores asociados a la Sensibilidad $S$ y la Especificidad $E$, posteriormente construir el gráfico $S$ vs $1-P$.\n",
    "\n",
    "A continuación, se implementa el AUC para el modelo Regresión Logística aplicado al dataset de diabetes normalizado."
   ]
  },
  {
   "cell_type": "code",
   "execution_count": 57,
   "metadata": {},
   "outputs": [],
   "source": [
    "# Calculo del valor x para el caso de la regresión logistica\n",
    "y_score = regresion_logistica.decision_function(X_test_diabetes)"
   ]
  },
  {
   "cell_type": "code",
   "execution_count": 59,
   "metadata": {},
   "outputs": [
    {
     "name": "stdout",
     "output_type": "stream",
     "text": [
      "Los thresholds son: \n",
      "\n",
      "[ 2.2598515   1.2598515   1.02861846  0.96057035  0.84030106  0.77964047\n",
      "  0.53016435  0.32876694  0.25967749  0.19805955  0.15113778  0.13574078\n",
      "  0.12687787  0.05245052  0.0166603   0.01385269 -0.02217812 -0.04206071\n",
      " -0.11163338 -0.14612361 -0.16325095 -0.1723782  -0.25962848 -0.2605373\n",
      " -0.26357992 -0.42908514 -0.43166684 -0.43696125 -0.46952236 -0.48831197\n",
      " -0.51169444 -0.6305479  -0.66224755 -0.84983107 -0.87622214 -0.87642621\n",
      " -0.89102373 -0.90078452 -0.91766316 -0.92140014 -0.93013343 -0.97913332\n",
      " -1.02171162 -1.02753619 -1.06748159 -1.10035055 -1.10680961 -1.23541681\n",
      " -1.25817029 -1.44485995 -1.47615319 -2.46957689]\n",
      "Los valores de sensibilidad son: \n",
      "\n",
      "[0.         0.01851852 0.09259259 0.09259259 0.12962963 0.12962963\n",
      " 0.25925926 0.25925926 0.27777778 0.27777778 0.38888889 0.38888889\n",
      " 0.40740741 0.40740741 0.42592593 0.42592593 0.44444444 0.44444444\n",
      " 0.51851852 0.51851852 0.53703704 0.53703704 0.59259259 0.59259259\n",
      " 0.61111111 0.61111111 0.62962963 0.62962963 0.66666667 0.66666667\n",
      " 0.7037037  0.7037037  0.77777778 0.77777778 0.7962963  0.7962963\n",
      " 0.83333333 0.83333333 0.85185185 0.85185185 0.88888889 0.88888889\n",
      " 0.90740741 0.90740741 0.92592593 0.92592593 0.94444444 0.94444444\n",
      " 0.98148148 0.98148148 1.         1.        ]\n",
      "Los valores de especificidad son: \n",
      "\n",
      "[1.   1.   1.   0.99 0.99 0.98 0.98 0.93 0.93 0.92 0.92 0.91 0.91 0.9\n",
      " 0.9  0.89 0.89 0.87 0.87 0.86 0.86 0.85 0.85 0.84 0.84 0.8  0.8  0.79\n",
      " 0.79 0.78 0.78 0.71 0.71 0.65 0.65 0.63 0.63 0.62 0.62 0.61 0.61 0.58\n",
      " 0.58 0.57 0.57 0.53 0.53 0.47 0.47 0.32 0.32 0.  ]\n"
     ]
    }
   ],
   "source": [
    "fpr, tpr, thresholds = roc_curve(y_test_diabetes, y_score, pos_label=\"tested_positive\")\n",
    "print(\"Los thresholds son: \\n\")\n",
    "print(thresholds)\n",
    "print(\"Los valores de sensibilidad son: \\n\")\n",
    "print(tpr) # imprimir la sensibilidad\n",
    "print(\"Los valores de especificidad son: \\n\")\n",
    "print(1-fpr) # imprimir la especificidad"
   ]
  },
  {
   "cell_type": "markdown",
   "metadata": {},
   "source": [
    "En el código anterior, se calculas varios valores de umbral (thresholds), cada uno acompañado de la sensibilidad (tpr) y el valor de 1-especificidad (fpr) que arrojaría la matriz de confusión de ese umbral."
   ]
  },
  {
   "cell_type": "markdown",
   "metadata": {},
   "source": [
    "### Finalmente, se muestra la curva ROC y la comparación con la peor configuración posible existente, con matplotlib."
   ]
  },
  {
   "cell_type": "code",
   "execution_count": 61,
   "metadata": {},
   "outputs": [
    {
     "data": {
      "text/plain": [
       "Text(0.5, 1.0, 'AUC')"
      ]
     },
     "execution_count": 61,
     "metadata": {},
     "output_type": "execute_result"
    },
    {
     "data": {
      "image/png": "[encoded data removed]",
      "text/plain": [
       "<Figure size 432x288 with 1 Axes>"
      ]
     },
     "metadata": {
      "needs_background": "light"
     },
     "output_type": "display_data"
    }
   ],
   "source": [
    "plt.plot(fpr, tpr)\n",
    "plt.plot([0, 1], [0, 1], 'k--')\n",
    "plt.xlim([0.0, 1.0])\n",
    "plt.ylim([0.0, 1.05])\n",
    "plt.xlabel('1 - Especificidad')\n",
    "plt.ylabel('Sensibilidad')\n",
    "plt.title('AUC')"
   ]
  },
  {
   "cell_type": "markdown",
   "metadata": {},
   "source": [
    "Ahora, el objetivo es calcular el AUC de la curva ROC, área que representa una medida de qué tan bueno o malo es el modelo estudiado. Entre mayor sea(cercano a 1), mucho mejor será el modelo.\n",
    "\n",
    "### Nota: \n",
    "Si un modelo se acerca a la linea punteada(AUC cercano a 0), significa que es un <i><b>MUY MAL</b></i> modelo."
   ]
  },
  {
   "cell_type": "code",
   "execution_count": 64,
   "metadata": {},
   "outputs": [
    {
     "name": "stdout",
     "output_type": "stream",
     "text": [
      "El área bajo la curva del modelo es: 0.8183333333333334\n"
     ]
    }
   ],
   "source": [
    "auc_log = auc(fpr, tpr)\n",
    "print(\"El área bajo la curva del modelo es: \" + str(auc))"
   ]
  },
  {
   "cell_type": "markdown",
   "metadata": {},
   "source": [
    "Si se tuviera otro modelo distinto de clasificación binaria, podría compararse con el modelo de Regresión Logística, calculando sus AUC."
   ]
  },
  {
   "cell_type": "markdown",
   "metadata": {},
   "source": [
    "## Evaluación de modelos de regresión.\n",
    "\n",
    "Este tipo de evaluación, es distinta dado que se lidia con una variable que puede tomar infinitos valores.\n",
    "\n",
    "Una medida fácil de comprender, se conoce como MAE (Mean Absolute Error), o promedio de errores.\n",
    "\n",
    "$$ MAE = \\frac{1}{n} \\sum_{i=1}^{n}|Y_{predicho} - Y_{real}| $$\n",
    "\n",
    "El $MAE$ da un primer pincelazo y permite saber qué tan bueno es el modelo, si $MAE = 0$, significa que el ajuste del modelo es perfecto a los datos.\n",
    "\n",
    "Por otro lado, el error cuadrático medio $MSE$, promedio de errores al cuadrado, cuando es pequeño indica un buen ajuste del modelo y entre más alto sea, será peor el ajuste, respectivamente.\n",
    "\n",
    "$$ MSE = \\frac{1}{n} \\sum_{i=1}^{n}(Y_{predicho} - Y_{real})^2 $$\n",
    "\n",
    "### Nota:\n",
    "\n",
    "Debe tenerse cuidado con el análisis de los valores obtenidos en el MSE y el MAE, dependiendo de los datos, los valores pueden ser grandes o pequeños.\n",
    "\n",
    "Un ejemplo, es, supongamos que obtenemos un $MSE = 8$, antes de decidir si el modelo ajusta correctamente o no, debe estudiarse el tipo de dato que se está utilizando en el dataset y cuál es su rango de valores."
   ]
  },
  {
   "cell_type": "markdown",
   "metadata": {},
   "source": [
    "# Tarea:\n",
    "\n",
    "Implemente, una máquina de soporte vectorial (SVM) y utilícela sobre el mismo dataset. \n",
    "\n",
    "Compare los resultados mediante el área bajo la curva entre el modelo SVM y la regresión logística implementada en el notebook.\n",
    "\n",
    "Recuerde que debe utilizar los mismos conjuntos de datos para ambos modelos(recuerde que split entrega la distribución respetando la proporción que escoja el usuario, pero de forma aleatoria con los datos)."
   ]
  },
  {
   "cell_type": "code",
   "execution_count": null,
   "metadata": {},
   "outputs": [],
   "source": [
    "from sklearn.svm import SVC\n",
    "X_train_diabetes, X_test_diabetes, y_train_diabetes, y_test_diabetes = train_test_split(X_diabetes, Y_diabetes, test_size=0.20)\n",
    "model = SVC() # Support vectorial machine \n",
    "model.fit(X_train_diabetes, y_train_diabetes) # ajustando los datos de entrenamiento a el modelo\n",
    "y_score = model.decision_function(X_test_diabetes) \n",
    "fpr, tpr, thresholds = roc_curve(y_test_diabetes, y_score, pos_label=\"tested_positive\")\n",
    "aucSVM = auc(fpr, tpr)\n",
    "print(\"El área bajo la curva de la maquina de soporte vectorial es: \" + str(aucSVM))\n",
    "print(\"El area bajo la curva del modelo de regresion logistica es: \" + str(auc_log))\n",
    "if(auc_log > aucSVM):\n",
    "    print(\"Se obtuvieron mejores resultados con el modelo de regresion logistica el valor auc mas cercano a uno es\", auc_log)\n",
    "else:\n",
    "    print(\"Se obtuvieron mejores resultados con el modelo de maquina de soporte vectorial el valor auc es de: \", aucSVM)"
   ]
  },
  {
   "cell_type": "markdown",
   "metadata": {},
   "source": [
    "# Introducción al Machine Learning"
   ]
  },
  {
   "cell_type": "markdown",
   "metadata": {},
   "source": [
    "El <b> Machine Learning </b> o <b> aprendizaje de máquina </b>, es una disciplina científica del ámbito de la Inteligencia Artificial, que desarrolla y experimenta sistemas que \"aprenden\" de forma automática.\n",
    "\n",
    "En este contexto, el \"aprendizaje\", quiere decir la identificación de patrones complejos en <i> millones de datos </i>.\n",
    "    \n",
    "Para entender un poco, qué aprende una máquina, realicemos esta analogía.\n",
    "\n",
    "Clásicamente, se desarrolla este tipo de trabajo en programación:\n",
    "\n",
    "$$Salida = Entrada + Algoritmo$$\n",
    "\n",
    "Recordemos que el dataset, viene de la forma $[x,Y]$, y por tanto $x$ representa el dato de entrada e $Y$ el dato de salida (que se considera verdadero). Por lo tanto, el \"dato\" desconocido en nuestra ecuación, es el algoritmo.\n",
    "\n",
    "Bajo este planteamiento:\n",
    "\n",
    "$$Algoritmo = Entrada + Salida$$\n",
    "\n",
    "Este es el paradigma de estudio.\n",
    "\n",
    "<center> <img src=\"res/ml.jpg\" style=\"width:500px;height:450px;\"> </center>"
   ]
  },
  {
   "cell_type": "markdown",
   "metadata": {},
   "source": [
    "# ¿Cómo podemos realizar Machine Learning?\n",
    "\n",
    "En este notebook, se utiliza Keras, aunque también puede hacerse con TensorFlow.\n",
    "\n",
    "La documentación que puede encontrarse esta en la página oficial de keras:\n",
    "\n",
    "https://keras.io\n",
    "\n",
    "También pueden realizarse numerosos tutoriales en la siguiente página:\n",
    "\n",
    "https://machinelearningmastery.com\n",
    "\n",
    "Sin olvidar los cursos que ofrecen plataformas virtuales como Coursera.\n",
    "\n",
    "## Sin más, vamos a crear nuestra primera red neuronal con Keras en un tutorial muy simple."
   ]
  },
  {
   "cell_type": "markdown",
   "metadata": {},
   "source": [
    "# Nuestra primera red neuronal."
   ]
  },
  {
   "cell_type": "markdown",
   "metadata": {},
   "source": [
    "## 1. Lectura de datos\n",
    "\n",
    "Antes de comenzar un ejercicio de clasificación, debemos conocer qué vamos a clasificar.\n",
    "\n",
    "Por lo tanto el primer paso es cargar el dataset."
   ]
  },
  {
   "cell_type": "markdown",
   "metadata": {},
   "source": [
    "### Es muy probable que importar librerías arroje problemas, recuerden instalar los paquetes de keras y tensorflow en anaconda."
   ]
  },
  {
   "cell_type": "code",
   "execution_count": 1,
   "metadata": {},
   "outputs": [
    {
     "name": "stderr",
     "output_type": "stream",
     "text": [
      "Using TensorFlow backend.\n"
     ]
    }
   ],
   "source": [
    "#Importar librerías\n",
    "from numpy import loadtxt\n",
    "from keras.models import Sequential\n",
    "from keras.layers import Dense"
   ]
  },
  {
   "cell_type": "code",
   "execution_count": 3,
   "metadata": {},
   "outputs": [],
   "source": [
    "dataset = loadtxt('datos/pima-indians-diabetes.csv', delimiter=',')"
   ]
  },
  {
   "cell_type": "code",
   "execution_count": 4,
   "metadata": {},
   "outputs": [
    {
     "data": {
      "text/plain": [
       "array([[  6.   , 148.   ,  72.   , ...,   0.627,  50.   ,   1.   ],\n",
       "       [  1.   ,  85.   ,  66.   , ...,   0.351,  31.   ,   0.   ],\n",
       "       [  8.   , 183.   ,  64.   , ...,   0.672,  32.   ,   1.   ],\n",
       "       ...,\n",
       "       [  5.   , 121.   ,  72.   , ...,   0.245,  30.   ,   0.   ],\n",
       "       [  1.   , 126.   ,  60.   , ...,   0.349,  47.   ,   1.   ],\n",
       "       [  1.   ,  93.   ,  70.   , ...,   0.315,  23.   ,   0.   ]])"
      ]
     },
     "execution_count": 4,
     "metadata": {},
     "output_type": "execute_result"
    }
   ],
   "source": [
    "dataset"
   ]
  },
  {
   "cell_type": "code",
   "execution_count": 11,
   "metadata": {},
   "outputs": [
    {
     "data": {
      "text/plain": [
       "(768, 9)"
      ]
     },
     "execution_count": 11,
     "metadata": {},
     "output_type": "execute_result"
    }
   ],
   "source": [
    "dataset.shape"
   ]
  },
  {
   "cell_type": "markdown",
   "metadata": {},
   "source": [
    "Este dataset tiene una visualización distinta al dataset de diabetes en pandas que se mostró anteriormente. Los datos no siempre se encuentran en un solo formato, es parte del reto trabajar con estas variaciones.\n",
    "\n",
    "## La última columna, representa la clase. Separemos los conjuntos X e Y, y posteriormente veamos si la clase es binaria."
   ]
  },
  {
   "cell_type": "code",
   "execution_count": 10,
   "metadata": {},
   "outputs": [],
   "source": [
    "X = dataset[:,0:8]\n",
    "y = dataset[:,8]\n",
    "#print(y)"
   ]
  },
  {
   "cell_type": "markdown",
   "metadata": {},
   "source": [
    "Si ejecutamos la instrucción print(y), se observa que es tipo binario. "
   ]
  },
  {
   "cell_type": "markdown",
   "metadata": {},
   "source": [
    "# 2. Keras\n",
    "\n",
    "Para construir una red neuronal en Keras, debe realizarse un modelo secuencial de \"layers\" (también llamados capas), un \"layer\" es un conjunto de neuronas que poseen una función de activación y unos pesos que ajustar.\n",
    "\n",
    "¿Cómo sabemos cuál es el mejor modelo para nuestro dataset?\n",
    "\n",
    "Tenemos muy pocos datos, no es sugerible una arquitectura con muchas neuronas, en este caso particular, escojamos 3 layers totalmente conectados.\n",
    "\n",
    "<center><img src = \"res/neu.jpg\"></center>\n",
    "\n",
    "<i> <center>Figura: El perceptron, w representa los pesos </center></i>\n",
    "\n",
    "Utilizaremos \"Dense\" para definir layers completamente conectados entre si, adicionalmente, podemos especificar el número de neuronas por layer en Keras, como veremos a continuación.\n",
    "\n",
    "De igual forma puede escogerse la función de activación, en la documentación se puede ver todas las funciones que ofrece Keras, escojamos una ReLu en este problema.\n",
    "\n",
    "https://keras.io/activations/\n",
    "\n",
    "<center><img src = \"res/layer.jpg\"></center>\n",
    "\n",
    "<i> <center>Figura: Concepto de layer </center></i>\n",
    "\n",
    "La arquitectura que planteamos para resolver este problema, es la siguiente:\n",
    "\n",
    "## Entrada de 8 variables (conjunto X, observar X.shape)\n",
    "## Primer capa oculta (hidden layer) con 12 nodos (neuronas) y función de activación ReLu.\n",
    "## Segunda capa oculta con 8 nodos y activación ReLu\n",
    "## Capa de salida con 1 nodo y activación Sigmoide\n",
    "\n",
    "Si se generan dudas acerca de qué es una función ReLu y una Sigmoide y cómo funcionan, a continuación hay documentación genérica sobre éstas.\n",
    "\n",
    "https://es.wikipedia.org/wiki/Funci%C3%B3n_sigmoide\n",
    "https://es.wikipedia.org/wiki/Rectificador_(redes_neuronales)\n",
    "\n",
    "## ¡Comencemos!"
   ]
  },
  {
   "cell_type": "code",
   "execution_count": 12,
   "metadata": {},
   "outputs": [
    {
     "name": "stderr",
     "output_type": "stream",
     "text": [
      "WARNING: Logging before flag parsing goes to stderr.\n",
      "W0814 19:00:55.575304  7160 deprecation_wrapper.py:119] From C:\\Users\\user\\Anaconda3\\lib\\site-packages\\keras\\backend\\tensorflow_backend.py:74: The name tf.get_default_graph is deprecated. Please use tf.compat.v1.get_default_graph instead.\n",
      "\n",
      "W0814 19:00:56.010294  7160 deprecation_wrapper.py:119] From C:\\Users\\user\\Anaconda3\\lib\\site-packages\\keras\\backend\\tensorflow_backend.py:517: The name tf.placeholder is deprecated. Please use tf.compat.v1.placeholder instead.\n",
      "\n",
      "W0814 19:00:56.080320  7160 deprecation_wrapper.py:119] From C:\\Users\\user\\Anaconda3\\lib\\site-packages\\keras\\backend\\tensorflow_backend.py:4138: The name tf.random_uniform is deprecated. Please use tf.random.uniform instead.\n",
      "\n"
     ]
    }
   ],
   "source": [
    "#definir el modelo, será secuencial dado que se pondrá un layer tras otro totalmente conectados\n",
    "model = Sequential()\n",
    "#Capa de entrada y primer capa oculta(ambos se ejecutan con esta instrucción)\n",
    "model.add(Dense(12, input_dim=8, activation='relu'))\n",
    "#Segunda capa oculta\n",
    "model.add(Dense(8, activation='relu'))\n",
    "#Capa de salida\n",
    "model.add(Dense(1, activation='sigmoid'))"
   ]
  },
  {
   "cell_type": "markdown",
   "metadata": {},
   "source": [
    "Una vez definido el modelo en Keras, lo compilamos.\n",
    "\n",
    "Esto permite un entrenamiento eficiente del modelo y una optimización del mismo. Adicionalmente, hay que escoger una función de pérdida. A continuación, en la documentación se muestra todas las disponibles en Keras.\n",
    "\n",
    "https://keras.io/losses/\n",
    "\n",
    "Ahora, escogemos la función de pérdida de entropía cruzada binaria (\"binary_crossentropy\").\n",
    "\n",
    "Por otro lado, el optimizador escogido será \"adam\". Una breve explicación aquí.\n",
    "\n",
    "https://machinelearningmastery.com/adam-optimization-algorithm-for-deep-learning/"
   ]
  },
  {
   "cell_type": "code",
   "execution_count": 13,
   "metadata": {},
   "outputs": [
    {
     "name": "stderr",
     "output_type": "stream",
     "text": [
      "W0814 19:05:14.788166  7160 deprecation_wrapper.py:119] From C:\\Users\\user\\Anaconda3\\lib\\site-packages\\keras\\optimizers.py:790: The name tf.train.Optimizer is deprecated. Please use tf.compat.v1.train.Optimizer instead.\n",
      "\n",
      "W0814 19:05:14.826487  7160 deprecation_wrapper.py:119] From C:\\Users\\user\\Anaconda3\\lib\\site-packages\\keras\\backend\\tensorflow_backend.py:3376: The name tf.log is deprecated. Please use tf.math.log instead.\n",
      "\n",
      "W0814 19:05:14.862566  7160 deprecation.py:323] From C:\\Users\\user\\Anaconda3\\lib\\site-packages\\tensorflow\\python\\ops\\nn_impl.py:180: add_dispatch_support.<locals>.wrapper (from tensorflow.python.ops.array_ops) is deprecated and will be removed in a future version.\n",
      "Instructions for updating:\n",
      "Use tf.where in 2.0, which has the same broadcast rule as np.where\n"
     ]
    }
   ],
   "source": [
    "model.compile(loss='binary_crossentropy', optimizer='adam', metrics=['accuracy'])"
   ]
  },
  {
   "cell_type": "markdown",
   "metadata": {},
   "source": [
    "Una vez compilado, hay que ejecutarlo sobre los datos.\n",
    "\n",
    "El proceso de entrenamiento correrá sobre los datos un número determinado de veces, cada vez que realice una iteración, ese tiempo gastado, será un \"epoch\".\n",
    "\n",
    "Escojamos el número de epochs para nuestro entrenamiento, en este caso, definamos epochs = 150. Puedes probar con 100, 200, 500, etc. \n",
    "\n",
    "Ahora, antes de actualizar el valor de los pesos, el modelo debe pasar por varios datos, ese número de filas de datos que utilice, lo definimos con batch_size, para el caso particular utilicemos 10 (por tanto cada 10 filas que recorra el modelo en el dataset, actualizará los pesos de las neuronas).\n",
    "\n",
    "Esta configuración puede ser sometida a ensayo y error y btenerse mejores o peores resultados,"
   ]
  },
  {
   "cell_type": "code",
   "execution_count": 14,
   "metadata": {
    "scrolled": false
   },
   "outputs": [
    {
     "name": "stderr",
     "output_type": "stream",
     "text": [
      "W0814 19:10:41.700737  7160 deprecation_wrapper.py:119] From C:\\Users\\user\\Anaconda3\\lib\\site-packages\\keras\\backend\\tensorflow_backend.py:986: The name tf.assign_add is deprecated. Please use tf.compat.v1.assign_add instead.\n",
      "\n"
     ]
    },
    {
     "name": "stdout",
     "output_type": "stream",
     "text": [
      "Epoch 1/150\n",
      "768/768 [==============================] - 1s 2ms/step - loss: 2.4501 - acc: 0.5625\n",
      "Epoch 2/150\n",
      "768/768 [==============================] - 0s 173us/step - loss: 1.1630 - acc: 0.5820\n",
      "Epoch 3/150\n",
      "768/768 [==============================] - 0s 171us/step - loss: 0.9705 - acc: 0.6250\n",
      "Epoch 4/150\n",
      "768/768 [==============================] - 0s 169us/step - loss: 0.7883 - acc: 0.6081\n",
      "Epoch 5/150\n",
      "768/768 [==============================] - 0s 164us/step - loss: 0.7440 - acc: 0.6302\n",
      "Epoch 6/150\n",
      "768/768 [==============================] - 0s 173us/step - loss: 0.7298 - acc: 0.6367\n",
      "Epoch 7/150\n",
      "768/768 [==============================] - 0s 176us/step - loss: 0.7097 - acc: 0.6536\n",
      "Epoch 8/150\n",
      "768/768 [==============================] - 0s 179us/step - loss: 0.6983 - acc: 0.6471\n",
      "Epoch 9/150\n",
      "768/768 [==============================] - 0s 168us/step - loss: 0.7034 - acc: 0.6667\n",
      "Epoch 10/150\n",
      "768/768 [==============================] - 0s 170us/step - loss: 0.6601 - acc: 0.6563\n",
      "Epoch 11/150\n",
      "768/768 [==============================] - 0s 179us/step - loss: 0.6618 - acc: 0.6471\n",
      "Epoch 12/150\n",
      "768/768 [==============================] - 0s 169us/step - loss: 0.6441 - acc: 0.6810\n",
      "Epoch 13/150\n",
      "768/768 [==============================] - 0s 166us/step - loss: 0.6464 - acc: 0.6758\n",
      "Epoch 14/150\n",
      "768/768 [==============================] - 0s 176us/step - loss: 0.6230 - acc: 0.7031\n",
      "Epoch 15/150\n",
      "768/768 [==============================] - 0s 172us/step - loss: 0.6326 - acc: 0.6771\n",
      "Epoch 16/150\n",
      "768/768 [==============================] - 0s 174us/step - loss: 0.6224 - acc: 0.6680\n",
      "Epoch 17/150\n",
      "768/768 [==============================] - 0s 167us/step - loss: 0.6147 - acc: 0.7044\n",
      "Epoch 18/150\n",
      "768/768 [==============================] - 0s 247us/step - loss: 0.6108 - acc: 0.6940\n",
      "Epoch 19/150\n",
      "768/768 [==============================] - 0s 141us/step - loss: 0.6055 - acc: 0.6940\n",
      "Epoch 20/150\n",
      "768/768 [==============================] - 0s 167us/step - loss: 0.6199 - acc: 0.6784\n",
      "Epoch 21/150\n",
      "768/768 [==============================] - 0s 187us/step - loss: 0.6108 - acc: 0.7044\n",
      "Epoch 22/150\n",
      "768/768 [==============================] - 0s 175us/step - loss: 0.5910 - acc: 0.6992\n",
      "Epoch 23/150\n",
      "768/768 [==============================] - 0s 180us/step - loss: 0.5977 - acc: 0.7109\n",
      "Epoch 24/150\n",
      "768/768 [==============================] - 0s 187us/step - loss: 0.5979 - acc: 0.7044\n",
      "Epoch 25/150\n",
      "768/768 [==============================] - 0s 172us/step - loss: 0.6015 - acc: 0.7005\n",
      "Epoch 26/150\n",
      "768/768 [==============================] - 0s 183us/step - loss: 0.6193 - acc: 0.7096\n",
      "Epoch 27/150\n",
      "768/768 [==============================] - 0s 183us/step - loss: 0.5774 - acc: 0.7083\n",
      "Epoch 28/150\n",
      "768/768 [==============================] - 0s 203us/step - loss: 0.5849 - acc: 0.7122\n",
      "Epoch 29/150\n",
      "768/768 [==============================] - 0s 181us/step - loss: 0.5943 - acc: 0.7083\n",
      "Epoch 30/150\n",
      "768/768 [==============================] - 0s 178us/step - loss: 0.6028 - acc: 0.7266\n",
      "Epoch 31/150\n",
      "768/768 [==============================] - 0s 183us/step - loss: 0.5808 - acc: 0.6966\n",
      "Epoch 32/150\n",
      "768/768 [==============================] - 0s 173us/step - loss: 0.5773 - acc: 0.7253\n",
      "Epoch 33/150\n",
      "768/768 [==============================] - 0s 183us/step - loss: 0.5702 - acc: 0.7201\n",
      "Epoch 34/150\n",
      "768/768 [==============================] - 0s 185us/step - loss: 0.5652 - acc: 0.7266\n",
      "Epoch 35/150\n",
      "768/768 [==============================] - 0s 235us/step - loss: 0.5618 - acc: 0.7227\n",
      "Epoch 36/150\n",
      "768/768 [==============================] - 0s 183us/step - loss: 0.5706 - acc: 0.7370\n",
      "Epoch 37/150\n",
      "768/768 [==============================] - 0s 193us/step - loss: 0.5584 - acc: 0.7279\n",
      "Epoch 38/150\n",
      "768/768 [==============================] - 0s 182us/step - loss: 0.5655 - acc: 0.7214\n",
      "Epoch 39/150\n",
      "768/768 [==============================] - 0s 206us/step - loss: 0.5565 - acc: 0.7266\n",
      "Epoch 40/150\n",
      "768/768 [==============================] - 0s 188us/step - loss: 0.5621 - acc: 0.7227\n",
      "Epoch 41/150\n",
      "768/768 [==============================] - 0s 178us/step - loss: 0.5694 - acc: 0.7318\n",
      "Epoch 42/150\n",
      "768/768 [==============================] - 0s 180us/step - loss: 0.5547 - acc: 0.7279\n",
      "Epoch 43/150\n",
      "768/768 [==============================] - 0s 186us/step - loss: 0.5447 - acc: 0.7357\n",
      "Epoch 44/150\n",
      "768/768 [==============================] - 0s 181us/step - loss: 0.5543 - acc: 0.7266\n",
      "Epoch 45/150\n",
      "768/768 [==============================] - 0s 186us/step - loss: 0.5446 - acc: 0.7318\n",
      "Epoch 46/150\n",
      "768/768 [==============================] - 0s 189us/step - loss: 0.5686 - acc: 0.7318\n",
      "Epoch 47/150\n",
      "768/768 [==============================] - 0s 184us/step - loss: 0.5466 - acc: 0.7370\n",
      "Epoch 48/150\n",
      "768/768 [==============================] - 0s 189us/step - loss: 0.5388 - acc: 0.7357\n",
      "Epoch 49/150\n",
      "768/768 [==============================] - 0s 195us/step - loss: 0.5414 - acc: 0.7266\n",
      "Epoch 50/150\n",
      "768/768 [==============================] - 0s 193us/step - loss: 0.5380 - acc: 0.7474\n",
      "Epoch 51/150\n",
      "768/768 [==============================] - 0s 189us/step - loss: 0.5479 - acc: 0.7331\n",
      "Epoch 52/150\n",
      "768/768 [==============================] - 0s 181us/step - loss: 0.5328 - acc: 0.7305\n",
      "Epoch 53/150\n",
      "768/768 [==============================] - 0s 184us/step - loss: 0.5421 - acc: 0.7201\n",
      "Epoch 54/150\n",
      "768/768 [==============================] - 0s 188us/step - loss: 0.5334 - acc: 0.7318\n",
      "Epoch 55/150\n",
      "768/768 [==============================] - 0s 216us/step - loss: 0.5306 - acc: 0.7422\n",
      "Epoch 56/150\n",
      "768/768 [==============================] - 0s 179us/step - loss: 0.5314 - acc: 0.7409\n",
      "Epoch 57/150\n",
      "768/768 [==============================] - 0s 194us/step - loss: 0.5383 - acc: 0.7266\n",
      "Epoch 58/150\n",
      "768/768 [==============================] - 0s 165us/step - loss: 0.5259 - acc: 0.7448\n",
      "Epoch 59/150\n",
      "768/768 [==============================] - 0s 170us/step - loss: 0.5413 - acc: 0.7188\n",
      "Epoch 60/150\n",
      "768/768 [==============================] - 0s 184us/step - loss: 0.5324 - acc: 0.7396\n",
      "Epoch 61/150\n",
      "768/768 [==============================] - 0s 182us/step - loss: 0.5089 - acc: 0.7448\n",
      "Epoch 62/150\n",
      "768/768 [==============================] - 0s 188us/step - loss: 0.5124 - acc: 0.7513\n",
      "Epoch 63/150\n",
      "768/768 [==============================] - 0s 137us/step - loss: 0.5203 - acc: 0.7435\n",
      "Epoch 64/150\n",
      "768/768 [==============================] - 0s 174us/step - loss: 0.5246 - acc: 0.7357\n",
      "Epoch 65/150\n",
      "768/768 [==============================] - 0s 187us/step - loss: 0.5191 - acc: 0.7422\n",
      "Epoch 66/150\n",
      "768/768 [==============================] - 0s 149us/step - loss: 0.5114 - acc: 0.7370\n",
      "Epoch 67/150\n",
      "768/768 [==============================] - 0s 164us/step - loss: 0.5254 - acc: 0.7227\n",
      "Epoch 68/150\n",
      "768/768 [==============================] - 0s 193us/step - loss: 0.5052 - acc: 0.7513\n",
      "Epoch 69/150\n",
      "768/768 [==============================] - 0s 177us/step - loss: 0.5011 - acc: 0.7461\n",
      "Epoch 70/150\n",
      "768/768 [==============================] - 0s 183us/step - loss: 0.5086 - acc: 0.7565\n",
      "Epoch 71/150\n",
      "768/768 [==============================] - 0s 185us/step - loss: 0.5396 - acc: 0.7318\n",
      "Epoch 72/150\n",
      "768/768 [==============================] - 0s 202us/step - loss: 0.4942 - acc: 0.7435 0s - loss: 0.4709 - acc: 0.75\n",
      "Epoch 73/150\n",
      "768/768 [==============================] - 0s 216us/step - loss: 0.4992 - acc: 0.7448\n",
      "Epoch 74/150\n",
      "768/768 [==============================] - 0s 144us/step - loss: 0.5122 - acc: 0.7383\n",
      "Epoch 75/150\n",
      "768/768 [==============================] - 0s 176us/step - loss: 0.5002 - acc: 0.7539\n",
      "Epoch 76/150\n",
      "768/768 [==============================] - 0s 191us/step - loss: 0.4942 - acc: 0.7604\n",
      "Epoch 77/150\n",
      "768/768 [==============================] - 0s 163us/step - loss: 0.5085 - acc: 0.7370\n",
      "Epoch 78/150\n",
      "768/768 [==============================] - 0s 181us/step - loss: 0.4934 - acc: 0.7539\n",
      "Epoch 79/150\n",
      "768/768 [==============================] - 0s 176us/step - loss: 0.4910 - acc: 0.7474\n",
      "Epoch 80/150\n",
      "768/768 [==============================] - 0s 177us/step - loss: 0.4883 - acc: 0.7721\n",
      "Epoch 81/150\n",
      "768/768 [==============================] - 0s 170us/step - loss: 0.5007 - acc: 0.7448\n",
      "Epoch 82/150\n",
      "768/768 [==============================] - 0s 189us/step - loss: 0.4890 - acc: 0.7435\n",
      "Epoch 83/150\n",
      "768/768 [==============================] - 0s 185us/step - loss: 0.4997 - acc: 0.7565\n",
      "Epoch 84/150\n",
      "768/768 [==============================] - 0s 177us/step - loss: 0.4834 - acc: 0.7669\n",
      "Epoch 85/150\n",
      "768/768 [==============================] - 0s 176us/step - loss: 0.4955 - acc: 0.7552\n",
      "Epoch 86/150\n",
      "768/768 [==============================] - 0s 170us/step - loss: 0.4945 - acc: 0.7552\n",
      "Epoch 87/150\n",
      "768/768 [==============================] - 0s 179us/step - loss: 0.4917 - acc: 0.7552\n",
      "Epoch 88/150\n",
      "768/768 [==============================] - 0s 166us/step - loss: 0.5023 - acc: 0.7487\n",
      "Epoch 89/150\n",
      "768/768 [==============================] - 0s 168us/step - loss: 0.4774 - acc: 0.7682\n",
      "Epoch 90/150\n",
      "768/768 [==============================] - 0s 168us/step - loss: 0.4982 - acc: 0.7409\n",
      "Epoch 91/150\n",
      "768/768 [==============================] - 0s 180us/step - loss: 0.4864 - acc: 0.7565\n",
      "Epoch 92/150\n",
      "768/768 [==============================] - 0s 185us/step - loss: 0.4841 - acc: 0.7643\n",
      "Epoch 93/150\n",
      "768/768 [==============================] - 0s 175us/step - loss: 0.4742 - acc: 0.7695\n",
      "Epoch 94/150\n",
      "768/768 [==============================] - 0s 176us/step - loss: 0.4769 - acc: 0.7630\n",
      "Epoch 95/150\n",
      "768/768 [==============================] - 0s 180us/step - loss: 0.4879 - acc: 0.7526\n",
      "Epoch 96/150\n",
      "768/768 [==============================] - 0s 176us/step - loss: 0.4950 - acc: 0.7591\n",
      "Epoch 97/150\n",
      "768/768 [==============================] - 0s 174us/step - loss: 0.4880 - acc: 0.7565\n",
      "Epoch 98/150\n",
      "768/768 [==============================] - 0s 183us/step - loss: 0.4802 - acc: 0.7526\n",
      "Epoch 99/150\n",
      "768/768 [==============================] - 0s 179us/step - loss: 0.4841 - acc: 0.7552\n",
      "Epoch 100/150\n",
      "768/768 [==============================] - 0s 176us/step - loss: 0.4768 - acc: 0.7643\n",
      "Epoch 101/150\n",
      "768/768 [==============================] - 0s 182us/step - loss: 0.4655 - acc: 0.7760\n",
      "Epoch 102/150\n",
      "768/768 [==============================] - 0s 174us/step - loss: 0.4793 - acc: 0.7617\n",
      "Epoch 103/150\n",
      "768/768 [==============================] - 0s 178us/step - loss: 0.4822 - acc: 0.7513\n",
      "Epoch 104/150\n",
      "768/768 [==============================] - 0s 198us/step - loss: 0.4841 - acc: 0.7656\n",
      "Epoch 105/150\n",
      "768/768 [==============================] - 0s 171us/step - loss: 0.4661 - acc: 0.7695\n",
      "Epoch 106/150\n",
      "768/768 [==============================] - 0s 172us/step - loss: 0.4800 - acc: 0.7617\n",
      "Epoch 107/150\n",
      "768/768 [==============================] - 0s 181us/step - loss: 0.4727 - acc: 0.7578\n",
      "Epoch 108/150\n",
      "768/768 [==============================] - 0s 177us/step - loss: 0.4732 - acc: 0.7721\n",
      "Epoch 109/150\n",
      "768/768 [==============================] - 0s 192us/step - loss: 0.4705 - acc: 0.7617\n",
      "Epoch 110/150\n",
      "768/768 [==============================] - 0s 258us/step - loss: 0.4744 - acc: 0.7669\n",
      "Epoch 111/150\n",
      "768/768 [==============================] - 0s 202us/step - loss: 0.4794 - acc: 0.7604\n",
      "Epoch 112/150\n",
      "768/768 [==============================] - 0s 192us/step - loss: 0.4860 - acc: 0.7591\n",
      "Epoch 113/150\n",
      "768/768 [==============================] - 0s 184us/step - loss: 0.4806 - acc: 0.7630\n",
      "Epoch 114/150\n",
      "768/768 [==============================] - 0s 170us/step - loss: 0.4716 - acc: 0.7773\n",
      "Epoch 115/150\n",
      "768/768 [==============================] - 0s 177us/step - loss: 0.4648 - acc: 0.7760\n",
      "Epoch 116/150\n",
      "768/768 [==============================] - 0s 173us/step - loss: 0.4620 - acc: 0.7734\n",
      "Epoch 117/150\n",
      "768/768 [==============================] - 0s 184us/step - loss: 0.4795 - acc: 0.7604\n",
      "Epoch 118/150\n",
      "768/768 [==============================] - 0s 189us/step - loss: 0.4732 - acc: 0.7786\n",
      "Epoch 119/150\n",
      "768/768 [==============================] - 0s 183us/step - loss: 0.4647 - acc: 0.7682\n",
      "Epoch 120/150\n",
      "768/768 [==============================] - 0s 195us/step - loss: 0.4762 - acc: 0.7630\n",
      "Epoch 121/150\n",
      "768/768 [==============================] - 0s 175us/step - loss: 0.4626 - acc: 0.7786\n",
      "Epoch 122/150\n",
      "768/768 [==============================] - 0s 182us/step - loss: 0.4613 - acc: 0.7917\n",
      "Epoch 123/150\n",
      "768/768 [==============================] - 0s 191us/step - loss: 0.4799 - acc: 0.7578\n",
      "Epoch 124/150\n",
      "768/768 [==============================] - 0s 175us/step - loss: 0.4671 - acc: 0.7669\n",
      "Epoch 125/150\n",
      "768/768 [==============================] - 0s 180us/step - loss: 0.4583 - acc: 0.7708\n",
      "Epoch 126/150\n",
      "768/768 [==============================] - 0s 202us/step - loss: 0.4644 - acc: 0.7747\n",
      "Epoch 127/150\n",
      "768/768 [==============================] - 0s 186us/step - loss: 0.4646 - acc: 0.7721\n",
      "Epoch 128/150\n",
      "768/768 [==============================] - 0s 181us/step - loss: 0.4636 - acc: 0.7721\n",
      "Epoch 129/150\n",
      "768/768 [==============================] - 0s 191us/step - loss: 0.4755 - acc: 0.7604\n",
      "Epoch 130/150\n",
      "768/768 [==============================] - 0s 188us/step - loss: 0.4635 - acc: 0.7630\n",
      "Epoch 131/150\n",
      "768/768 [==============================] - 0s 169us/step - loss: 0.4613 - acc: 0.7773\n",
      "Epoch 132/150\n",
      "768/768 [==============================] - 0s 161us/step - loss: 0.4660 - acc: 0.7617\n",
      "Epoch 133/150\n",
      "768/768 [==============================] - 0s 191us/step - loss: 0.4752 - acc: 0.7708\n",
      "Epoch 134/150\n",
      "768/768 [==============================] - 0s 158us/step - loss: 0.4700 - acc: 0.7682\n",
      "Epoch 135/150\n",
      "768/768 [==============================] - 0s 157us/step - loss: 0.4645 - acc: 0.7643\n",
      "Epoch 136/150\n",
      "768/768 [==============================] - 0s 154us/step - loss: 0.4652 - acc: 0.7786\n",
      "Epoch 137/150\n",
      "768/768 [==============================] - 0s 166us/step - loss: 0.4569 - acc: 0.7734\n",
      "Epoch 138/150\n",
      "768/768 [==============================] - 0s 172us/step - loss: 0.4661 - acc: 0.7826\n",
      "Epoch 139/150\n",
      "768/768 [==============================] - 0s 162us/step - loss: 0.4557 - acc: 0.7865 0s - loss: 0.4510 - acc: 0.78\n",
      "Epoch 140/150\n",
      "768/768 [==============================] - 0s 166us/step - loss: 0.4671 - acc: 0.7734\n",
      "Epoch 141/150\n",
      "768/768 [==============================] - 0s 160us/step - loss: 0.4779 - acc: 0.7565\n",
      "Epoch 142/150\n",
      "768/768 [==============================] - 0s 132us/step - loss: 0.4637 - acc: 0.7734\n",
      "Epoch 143/150\n",
      "768/768 [==============================] - 0s 161us/step - loss: 0.4712 - acc: 0.7799\n",
      "Epoch 144/150\n",
      "768/768 [==============================] - 0s 164us/step - loss: 0.4867 - acc: 0.7682\n",
      "Epoch 145/150\n",
      "768/768 [==============================] - 0s 177us/step - loss: 0.4566 - acc: 0.7760\n",
      "Epoch 146/150\n",
      "768/768 [==============================] - 0s 155us/step - loss: 0.4600 - acc: 0.7708\n",
      "Epoch 147/150\n",
      "768/768 [==============================] - 0s 166us/step - loss: 0.4620 - acc: 0.7786\n",
      "Epoch 148/150\n",
      "768/768 [==============================] - 0s 134us/step - loss: 0.4616 - acc: 0.7630\n",
      "Epoch 149/150\n",
      "768/768 [==============================] - 0s 134us/step - loss: 0.4599 - acc: 0.7708\n",
      "Epoch 150/150\n",
      "768/768 [==============================] - 0s 192us/step - loss: 0.4514 - acc: 0.7747\n"
     ]
    },
    {
     "data": {
      "text/plain": [
       "<keras.callbacks.History at 0x28a50ca2eb8>"
      ]
     },
     "execution_count": 14,
     "metadata": {},
     "output_type": "execute_result"
    }
   ],
   "source": [
    "model.fit(X, y, epochs=150, batch_size=10)"
   ]
  },
  {
   "cell_type": "markdown",
   "metadata": {},
   "source": [
    "La precisión del modelo varía en cada epoch, en promedio se puede decir que es de 0.77.\n",
    "\n",
    "Finalmente, realicemos algunas predicciones sobre el modelo, para ver su comportamiento."
   ]
  },
  {
   "cell_type": "code",
   "execution_count": 18,
   "metadata": {},
   "outputs": [
    {
     "name": "stdout",
     "output_type": "stream",
     "text": [
      "[6.0, 148.0, 72.0, 35.0, 0.0, 33.6, 0.627, 50.0] => 1 (expected 1)\n",
      "[1.0, 85.0, 66.0, 29.0, 0.0, 26.6, 0.351, 31.0] => 0 (expected 0)\n",
      "[8.0, 183.0, 64.0, 0.0, 0.0, 23.3, 0.672, 32.0] => 1 (expected 1)\n",
      "[1.0, 89.0, 66.0, 23.0, 94.0, 28.1, 0.167, 21.0] => 0 (expected 0)\n",
      "[0.0, 137.0, 40.0, 35.0, 168.0, 43.1, 2.288, 33.0] => 1 (expected 1)\n",
      "[5.0, 116.0, 74.0, 0.0, 0.0, 25.6, 0.201, 30.0] => 0 (expected 0)\n",
      "[3.0, 78.0, 50.0, 32.0, 88.0, 31.0, 0.248, 26.0] => 0 (expected 1)\n",
      "[10.0, 115.0, 0.0, 0.0, 0.0, 35.3, 0.134, 29.0] => 1 (expected 0)\n",
      "[2.0, 197.0, 70.0, 45.0, 543.0, 30.5, 0.158, 53.0] => 1 (expected 1)\n",
      "[8.0, 125.0, 96.0, 0.0, 0.0, 0.0, 0.232, 54.0] => 0 (expected 1)\n"
     ]
    }
   ],
   "source": [
    "predictions = model.predict_classes(X)\n",
    "for i in range(10):\n",
    "    print('%s => %d (expected %d)' % (X[i].tolist(), predictions[i], y[i]))"
   ]
  },
  {
   "cell_type": "markdown",
   "metadata": {},
   "source": [
    "Para los primeros 10 datos, el modelo erró en la predicción de 3 de ellos, lo que da una precisión del 70%, no alejada de la realidad."
   ]
  },
  {
   "cell_type": "markdown",
   "metadata": {},
   "source": [
    "# Tarea:\n",
    "\n",
    "Formule un modelo de clasificación supervisada y un modelo de clasificación no supervisado, haciendo uso del dataset que se encuentra en la carpeta \"dataset tarea\".\n",
    "\n",
    "Debe presentar junto a estos, sus respectivas métricas de desempeño."
   ]
  }
 ],
 "metadata": {
  "kernelspec": {
   "display_name": "Python 3",
   "language": "python",
   "name": "python3"
  },
  "language_info": {
   "codemirror_mode": {
    "name": "ipython",
    "version": 3
   },
   "file_extension": ".py",
   "mimetype": "text/x-python",
   "name": "python",
   "nbconvert_exporter": "python",
   "pygments_lexer": "ipython3",
   "version": "3.5.2"
  }
 },
 "nbformat": 4,
 "nbformat_minor": 2
}
