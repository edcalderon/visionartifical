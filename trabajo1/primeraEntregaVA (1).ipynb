{
 "cells": [
  {
   "cell_type": "markdown",
   "metadata": {},
   "source": [
    "# <center> GRUPO 3   </center>\n",
    "###  <center> Edward Calderon </center>\n",
    "### <center> Jacob Arcila cardenas  </center>\n",
    "### <center> Mateo arango montoya  </center>\n",
    "### <center> Ivan camilo bravo lasso  </center>"
   ]
  },
  {
   "cell_type": "markdown",
   "metadata": {},
   "source": [
    "# MODULO I"
   ]
  },
  {
   "cell_type": "code",
   "execution_count": 2,
   "metadata": {},
   "outputs": [
    {
     "ename": "error",
     "evalue": "OpenCV(4.1.0) /io/opencv/modules/imgproc/src/color.cpp:182: error: (-215:Assertion failed) !_src.empty() in function 'cvtColor'\n",
     "output_type": "error",
     "traceback": [
      "\u001b[0;31m---------------------------------------------------------------------------\u001b[0m",
      "\u001b[0;31merror\u001b[0m                                     Traceback (most recent call last)",
      "\u001b[0;32m<ipython-input-2-f2dabe58acf7>\u001b[0m in \u001b[0;36m<module>\u001b[0;34m()\u001b[0m\n\u001b[1;32m      7\u001b[0m \u001b[0;32mimport\u001b[0m \u001b[0mcv2\u001b[0m\u001b[0;34m\u001b[0m\u001b[0;34m\u001b[0m\u001b[0m\n\u001b[1;32m      8\u001b[0m \u001b[0;34m\u001b[0m\u001b[0m\n\u001b[0;32m----> 9\u001b[0;31m \u001b[0mimg\u001b[0m \u001b[0;34m=\u001b[0m \u001b[0mcv2\u001b[0m\u001b[0;34m.\u001b[0m\u001b[0mcvtColor\u001b[0m\u001b[0;34m(\u001b[0m\u001b[0mcv2\u001b[0m\u001b[0;34m.\u001b[0m\u001b[0mimread\u001b[0m\u001b[0;34m(\u001b[0m\u001b[0;34m'res/imagen.jpg'\u001b[0m\u001b[0;34m)\u001b[0m\u001b[0;34m,\u001b[0m \u001b[0mcv2\u001b[0m\u001b[0;34m.\u001b[0m\u001b[0mCOLOR_BGR2RGB\u001b[0m\u001b[0;34m)\u001b[0m\u001b[0;34m\u001b[0m\u001b[0;34m\u001b[0m\u001b[0m\n\u001b[0m\u001b[1;32m     10\u001b[0m \u001b[0;31m#Se crea la imagen copia\u001b[0m\u001b[0;34m\u001b[0m\u001b[0;34m\u001b[0m\u001b[0;34m\u001b[0m\u001b[0m\n\u001b[1;32m     11\u001b[0m \u001b[0mimg_add\u001b[0m \u001b[0;34m=\u001b[0m \u001b[0mnp\u001b[0m\u001b[0;34m.\u001b[0m\u001b[0mzeros\u001b[0m\u001b[0;34m(\u001b[0m\u001b[0mimg\u001b[0m\u001b[0;34m.\u001b[0m\u001b[0mshape\u001b[0m\u001b[0;34m,\u001b[0m \u001b[0mnp\u001b[0m\u001b[0;34m.\u001b[0m\u001b[0muint8\u001b[0m\u001b[0;34m)\u001b[0m\u001b[0;34m\u001b[0m\u001b[0;34m\u001b[0m\u001b[0m\n",
      "\u001b[0;31merror\u001b[0m: OpenCV(4.1.0) /io/opencv/modules/imgproc/src/color.cpp:182: error: (-215:Assertion failed) !_src.empty() in function 'cvtColor'\n"
     ]
    }
   ],
   "source": [
    "#Punto 1\n",
    "#Literal a)\n",
    "\n",
    "import random\n",
    "from matplotlib import pyplot as plt \n",
    "import numpy as np\n",
    "import cv2\n",
    "\n",
    "img = cv2.cvtColor(cv2.imread('res/imagen.jpg'), cv2.COLOR_BGR2RGB)\n",
    "#Se crea la imagen copia\n",
    "img_add = np.zeros(img.shape, np.uint8)\n",
    "\n",
    "q = 0; w = 0; e = -255\n",
    "#Se sustituyen los valores de cada canal de la copia por los valores modificados de la imagen original\n",
    "img_add[:,0:100:,0] = cv2.add(img[:,0:100,0], q)\n",
    "img_add[:,0:100,1] = cv2.add(img[:,0:100,1], w)\n",
    "img_add[:,0:100,2] = cv2.add(img[:,0:100,2], e)\n",
    "\n",
    "q = -255; w = 0; e = 0\n",
    "#Se sustituyen los valores de cada canal de la copia por los valores modificados de la imagen original\n",
    "img_add[:,100:200:,0] = cv2.add(img[:,100:200,0], q)\n",
    "img_add[:,100:200,1] = cv2.add(img[:,100:200,1], w)\n",
    "img_add[:,100:200,2] = cv2.add(img[:,100:200,2], e)\n",
    "\n",
    "q = 0; w = -255; e = -255\n",
    "#Se sustituyen los valores de cada canal de la copia por los valores modificados de la imagen original\n",
    "img_add[:,200:300:,0] = cv2.add(img[:,200:300,0], q)\n",
    "img_add[:,200:300,1] = cv2.add(img[:,200:300,1], w)\n",
    "img_add[:,200:300,2] = cv2.add(img[:,200:300,2], e)\n",
    "\n",
    "q = -255; w = 0; e = -255\n",
    "#Se sustituyen los valores de cada canal de la copia por los valores modificados de la imagen original\n",
    "img_add[:,300:400,0] = cv2.add(img[:,300:400,0], q)\n",
    "img_add[:,300:400,1] = cv2.add(img[:,300:400,1], w)\n",
    "img_add[:,300:400,2] = cv2.add(img[:,300:400,2], e)\n",
    "plt.imshow(img_add)"
   ]
  },
  {
   "cell_type": "code",
   "execution_count": null,
   "metadata": {},
   "outputs": [],
   "source": [
    "\n",
    "img = cv2.imread(\"res/colores.png\", cv2.IMREAD_COLOR)\n",
    "img_rgb  = cv2.cvtColor(img, cv2.COLOR_BGR2RGB)\n",
    "plt.imshow(img_rgb)\n",
    "\n",
    "img_rgb  = cv2.cvtColor(img, cv2.COLOR_BGR2RGB)\n",
    "img_R = img_rgb[:,:,0]\n",
    "img_G = img_rgb[:,:,1]\n",
    "img_B = img_rgb[:,:,2]\n",
    "img_lab  = cv2.cvtColor(img, cv2.COLOR_BGR2LAB)\n",
    "img_L = img_lab[:,:,0]\n",
    "img_A =  img_lab[:,:,1]\n",
    "img_B = img_lab[:,:,2]\n",
    "\n",
    "img_xyz  = cv2.cvtColor(img, cv2.COLOR_BGR2RGB)\n",
    "img_X = img_xyz[:,:,0]\n",
    "img_Y =  img_xyz[:,:,1]\n",
    "img_Z = img_xyz[:,:,2]\n",
    "\n",
    "\n",
    "fig, arreglo_plots = plt.subplots(6,2, figsize=(15, 25))\n",
    "colors = ('r','g','b')\n",
    "#Canal LAB\n",
    "arreglo_plots[0,0].set_title('Canal L')\n",
    "arreglo_plots[0,0].imshow(img_L, cmap=\"gray\")\n",
    "arreglo_plots[0,1].set_title('Histograma Canal L')\n",
    "img_array_i = img_lab[:,:,0].ravel()\n",
    "arreglo_plots[0,1].hist(img_array_i,histtype='step', bins=255, \n",
    "                            range=(0.0, 255.0),normed=True, color=colors[0])\n",
    "\n",
    "arreglo_plots[1,0].set_title('Canal A')\n",
    "arreglo_plots[1,0].imshow(img_A, cmap=\"gray\")\n",
    "arreglo_plots[1,1].set_title('Histograma Canal A')\n",
    "img_array_i = img_lab[:,:,1].ravel()\n",
    "arreglo_plots[1,1].hist(img_array_i,histtype='step', bins=255, \n",
    "                            range=(0.0, 255.0),normed=True, color=colors[1])\n",
    "    \n",
    "arreglo_plots[2,0].set_title('Canal B')\n",
    "arreglo_plots[2,0].imshow(img_B, cmap=\"gray\")\n",
    "arreglo_plots[2,1].set_title('Histograma Canal B')\n",
    "img_array_i = img_lab[:,:,2].ravel()\n",
    "arreglo_plots[2,1].hist(img_array_i,histtype='step', bins=255, \n",
    "                            range=(0.0, 255.0),normed=True, color=colors[2])\n",
    "\n",
    "#Canal XYZ\n",
    "arreglo_plots[3,0].set_title('Canal R')\n",
    "arreglo_plots[3,0].imshow(img_X, cmap=\"gray\")\n",
    "arreglo_plots[3,1].set_title('Histograma Canal R')\n",
    "img_array_i = img_xyz[:,:,0].ravel()\n",
    "arreglo_plots[3,1].hist(img_array_i,histtype='step', bins=255, \n",
    "                            range=(0.0, 255.0),normed=True, color=colors[0])\n",
    "\n",
    "arreglo_plots[4,0].set_title('Canal G')\n",
    "arreglo_plots[4,0].imshow(img_Y, cmap=\"gray\")\n",
    "arreglo_plots[4,1].set_title('Histograma Canal G')\n",
    "img_array_i = img_xyz[:,:,1].ravel()\n",
    "arreglo_plots[4,1].hist(img_array_i,histtype='step', bins=255, \n",
    "                            range=(0.0, 255.0),normed=True, color=colors[1])\n",
    "    \n",
    "arreglo_plots[5,0].set_title('Canal B')\n",
    "arreglo_plots[5,0].imshow(img_Z, cmap=\"gray\")\n",
    "arreglo_plots[5,1].set_title('Histograma Canal B')\n",
    "img_array_i = img_xyz[:,:,2].ravel()\n",
    "arreglo_plots[5,1].hist(img_array_i,histtype='step', bins=255, \n",
    "                            range=(0.0, 255.0),normed=True, color=colors[2]);"
   ]
  },
  {
   "cell_type": "code",
   "execution_count": null,
   "metadata": {},
   "outputs": [],
   "source": []
  },
  {
   "cell_type": "markdown",
   "metadata": {},
   "source": [
    "# MODULO II"
   ]
  },
  {
   "cell_type": "code",
   "execution_count": 9,
   "metadata": {},
   "outputs": [
    {
     "data": {
      "text/plain": [
       "Text(0.5, 1.0, 'Imagen 2')"
      ]
     },
     "execution_count": 9,
     "metadata": {},
     "output_type": "execute_result"
    },
    {
     "data": {
      "image/png": "[encoded data removed]",
      "text/plain": [
       "<Figure size 1080x1728 with 2 Axes>"
      ]
     },
     "metadata": {},
     "output_type": "display_data"
    }
   ],
   "source": [
    "# Punto 1 :Lea la imagen \"col.png\" y la imagen \"jap.png\" que se encuentran en la carpeta \"res\", muestrelas con plt.imshow. NO es necesario mostrar sus histogramas.\n",
    "\n",
    "#Imagen importadas\n",
    "\n",
    "img1 = cv2.imread('res/col.png', cv2.IMREAD_COLOR)\n",
    "img2 = cv2.imread('res/jap.png', cv2.IMREAD_COLOR)\n",
    "img1 = cv2.cvtColor(img1, cv2.COLOR_BGR2RGB)\n",
    "img2 = cv2.cvtColor(img2, cv2.COLOR_BGR2RGB)\n",
    "\n",
    "fig = plt.figure(figsize=(15,24))\n",
    "\n",
    "plt.subplot(1,2,1)\n",
    "plt.imshow(img1,cmap='gray')\n",
    "plt.title(\"Imagen 1\")\n",
    "\n",
    "plt.subplot(1,2,2)\n",
    "plt.imshow(img2,cmap='gray')\n",
    "plt.title(\"Imagen 2\")\n"
   ]
  },
  {
   "cell_type": "markdown",
   "metadata": {},
   "source": [
    "## a)  A continuación, se presenta una transformación sobre ambas imágenes \n",
    "\n",
    "<br> <center> $ G(x,y) = (1-k)*I1(x,y) + k*I2(x,y) $ </center> </br>\n",
    "\n",
    "<br> <center> $ 0 < k < 1 $ </center> </br>\n",
    "\n",
    "<ul> Realice un código que muestre esta transformación, posteriormente responda: </ul>\n",
    "\n",
    "<ul> <br> ¿Qué ocurre si k = 1, k = 0, k = 0.5? </br> </ul>"
   ]
  },
  {
   "cell_type": "code",
   "execution_count": null,
   "metadata": {},
   "outputs": [],
   "source": []
  }
 ],
 "metadata": {
  "kernelspec": {
   "display_name": "Python 3",
   "language": "python",
   "name": "python3"
  },
  "language_info": {
   "codemirror_mode": {
    "name": "ipython",
    "version": 3
   },
   "file_extension": ".py",
   "mimetype": "text/x-python",
   "name": "python",
   "nbconvert_exporter": "python",
   "pygments_lexer": "ipython3",
   "version": "3.6.7"
  }
 },
 "nbformat": 4,
 "nbformat_minor": 2
}
